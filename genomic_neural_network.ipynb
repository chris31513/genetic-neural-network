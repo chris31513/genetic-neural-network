{
 "cells": [
  {
   "cell_type": "markdown",
   "metadata": {
    "id": "Me1v7n5ml7zz"
   },
   "source": [
    "La red que vamos a construir toma datos de un dataset que contiene toda la información genética que Manu Sporny logró recabar usando varias marcas genéticas. Con base en esas marcas genéticas vamos a clasificar cada una en diferentes genotipos."
   ]
  },
  {
   "cell_type": "code",
   "execution_count": 1,
   "metadata": {
    "id": "Xutdwq0ujk14"
   },
   "outputs": [],
   "source": [
    "import tensorflow as tf\n",
    "import torch as pt\n",
    "import torch.nn as nn\n",
    "import numpy as np\n",
    "from matplotlib import pyplot as plt \n",
    "import random\n",
    "\n",
    "# leemos el archivo\n",
    "\n",
    "f = open('ManuSporny-genome.txt', 'r')\n",
    "all_lines = f.read().split('\\n')\n",
    "lines_without_comments = list(filter(lambda x: len(x) > 0 and x[0] != '#', all_lines))\n",
    "lines_to_rows = list(map(lambda x: x.split('\\t'), lines_without_comments))"
   ]
  },
  {
   "cell_type": "markdown",
   "metadata": {
    "id": "X76DmJCvu-iD"
   },
   "source": [
    "El conjunto de datos está dividido en 3 columnas de datos genéticos; rsid, chromosoma, posición. Y una última columna que es la clasificación del genotipo de cada renglón."
   ]
  },
  {
   "cell_type": "code",
   "execution_count": 2,
   "metadata": {
    "id": "QV8Y2EBrvOY_"
   },
   "outputs": [],
   "source": [
    "# clasificamos las entradas y salidas de la red\n",
    "\n",
    "chromosome = [row[1] for row in lines_to_rows]\n",
    "\n",
    "genotypes = [row[3] for row in lines_to_rows]"
   ]
  },
  {
   "cell_type": "markdown",
   "metadata": {
    "id": "VZHb7mF6vTHK"
   },
   "source": [
    "Aunque todos los datos son números, la red puede llegar a confundirse y no encontrar ninguna relación entre estos, así que, como será una red clasificadora, debemos separar el conjunto usando one-hot-encoding."
   ]
  },
  {
   "cell_type": "code",
   "execution_count": 3,
   "metadata": {
    "id": "FR0rxoX1xg3E"
   },
   "outputs": [],
   "source": [
    "# obtenemos todas las clases\n",
    "\n",
    "chromosome_classes = list(set(chromosome))\n",
    "\n",
    "genotypes_classes = list(set(genotypes))\n",
    "\n",
    "# aplicamos one-hot-encoding\n",
    "\n",
    "chromosome_indexes = [i for i,_ in enumerate(chromosome_classes)]\n",
    "\n",
    "chromosome_one_hot = tf.one_hot(chromosome_indexes, len(chromosome_indexes), dtype=float)\n",
    "\n",
    "genotypes_indexes = [i for i,_ in enumerate(genotypes_classes)]\n",
    "\n",
    "genotypes_one_hot = tf.one_hot(genotypes_indexes, len(genotypes_classes), dtype=float)\n",
    "\n",
    "# emparejamos las clases con su one hot\n",
    "\n",
    "chromosome_match = list(zip(chromosome_classes, chromosome_one_hot))\n",
    "genotypes_match = list(zip(genotypes_classes, genotypes_one_hot))"
   ]
  },
  {
   "cell_type": "markdown",
   "metadata": {
    "id": "OQENkdhH8wxv"
   },
   "source": [
    "Ahora, debemos unir todos los datos y preparar las entradas y salidasd de la red y generar los conjuntos de prueba y entrenamiento."
   ]
  },
  {
   "cell_type": "code",
   "execution_count": 4,
   "metadata": {
    "id": "YnLI0guQ83eZ"
   },
   "outputs": [],
   "source": [
    "# construimos las matrices de entrada\n",
    "\n",
    "dataset = list()\n",
    "\n",
    "for r, c, p, g in lines_to_rows:\n",
    "  for chromosome_oh in chromosome_match:\n",
    "    if c == chromosome_oh[0]:\n",
    "      if r[0] == 'r':\n",
    "        dataset.append((np.array([float(r[2:])] + chromosome_oh[1].numpy().tolist() + [float(p)]), g))\n",
    "      else:\n",
    "        dataset.append((np.array([float(r[1:])] + chromosome_oh[1].numpy().tolist() + [float(p)]), g))\n",
    "\n",
    "# tomamos el 80% del conjunto total como el conjunto de entrenamiento y el 20% el conjunto de prueba\n",
    "\n",
    "train_number = int(len(dataset) * 0.8)\n",
    "\n",
    "train_set = dataset[:train_number]\n",
    "test_set = dataset[train_number:]\n",
    "\n",
    "x_train = list()\n",
    "y_train = list()\n",
    "\n",
    "x_test = list()\n",
    "y_test = list()\n",
    "\n",
    "count = dict()\n",
    "\n",
    "for g in genotypes_classes:\n",
    "  count[g] = 0\n",
    "\n",
    "# definimos las clases del conjunto de prueba y entrenamiento\n",
    "\n",
    "for x,y in train_set:\n",
    "  for g, one_hot in genotypes_match:\n",
    "    if y == g:\n",
    "      count[g] += 1\n",
    "      y_train.append(np.array(one_hot))\n",
    "      x_train.append(x)\n",
    "\n",
    "for x,y in test_set:\n",
    "  for g, one_hot in genotypes_match:\n",
    "    if y == g:\n",
    "      count[g] += 1\n",
    "      y_test.append(np.array(one_hot))\n",
    "      x_test.append(x)\n",
    "\n",
    "x_train = np.array(x_train)\n",
    "y_train = np.array(y_train)\n",
    "\n",
    "x_test = np.array(x_test)\n",
    "y_test = np.array(y_test)\n"
   ]
  },
  {
   "cell_type": "markdown",
   "metadata": {
    "id": "uKYZ1akXM413"
   },
   "source": [
    "Podemos ver la gráfica de los genotipos y datos."
   ]
  },
  {
   "cell_type": "code",
   "execution_count": 5,
   "metadata": {
    "colab": {
     "base_uri": "https://localhost:8080/",
     "height": 606
    },
    "id": "cIuxCrTeM_I_",
    "outputId": "86a4119f-6dca-49d2-bdca-44d9b753f8a7"
   },
   "outputs": [
    {
     "data": {
      "image/png": "[encoded data removed]",
      "text/plain": [
       "<Figure size 1440x720 with 1 Axes>"
      ]
     },
     "metadata": {
      "needs_background": "light"
     },
     "output_type": "display_data"
    }
   ],
   "source": [
    "classes = list(count.keys())\n",
    "values = list(count.values())\n",
    "\n",
    "fig = plt.figure(figsize = (20, 10))\n",
    "plt.bar(classes, values, color ='maroon', width = 0.4) \n",
    "plt.xlabel(\"Genotipos\") \n",
    "plt.ylabel(\"Poblacion\")\n",
    "plt.show()"
   ]
  },
  {
   "cell_type": "markdown",
   "metadata": {
    "id": "YML5TgrXJjg9"
   },
   "source": [
    "Como ya tenemos el conjunto de datos ya podemos iniciar la construcción de la red"
   ]
  },
  {
   "cell_type": "code",
   "execution_count": 8,
   "metadata": {
    "colab": {
     "background_save": true,
     "base_uri": "https://localhost:8080/"
    },
    "id": "DP-yyMSoJpxH",
    "outputId": "dbf27111-d244-493d-ce17-128fe5525789"
   },
   "outputs": [
    {
     "name": "stdout",
     "output_type": "stream",
     "text": [
      "epoch 0 \n",
      "            Train set - loss: 0.7206419706344604, accuracy: 18.108821868896484 \n",
      "            Test  set - loss: 0.7209431529045105, accuracy: 18.09599494934082\n",
      "epoch 100 \n",
      "            Train set - loss: 0.7176095843315125, accuracy: 18.20943832397461 \n",
      "            Test  set - loss: 0.7186326384544373, accuracy: 18.166290283203125\n",
      "epoch 200 \n",
      "            Train set - loss: 0.718075692653656, accuracy: 18.138328552246094 \n",
      "            Test  set - loss: 0.7192064523696899, accuracy: 18.084985733032227\n",
      "epoch 300 \n",
      "            Train set - loss: 0.7170226573944092, accuracy: 18.11128807067871 \n",
      "            Test  set - loss: 0.7183912992477417, accuracy: 18.06536865234375\n",
      "epoch 400 \n",
      "            Train set - loss: 0.716672956943512, accuracy: 18.119251251220703 \n",
      "            Test  set - loss: 0.717851459980011, accuracy: 18.076061248779297\n",
      "epoch 500 \n",
      "            Train set - loss: 0.716192901134491, accuracy: 18.049291610717773 \n",
      "            Test  set - loss: 0.7174742221832275, accuracy: 18.00650978088379\n",
      "epoch 600 \n",
      "            Train set - loss: 0.7159804701805115, accuracy: 17.743778228759766 \n",
      "            Test  set - loss: 0.7172683477401733, accuracy: 17.75961685180664\n",
      "epoch 700 \n",
      "            Train set - loss: 0.7159660458564758, accuracy: 17.712926864624023 \n",
      "            Test  set - loss: 0.7172810435295105, accuracy: 17.706209182739258\n",
      "epoch 800 \n",
      "            Train set - loss: 0.7159677147865295, accuracy: 17.718297958374023 \n",
      "            Test  set - loss: 0.7172679901123047, accuracy: 17.711917877197266\n",
      "epoch 900 \n",
      "            Train set - loss: 0.7157092094421387, accuracy: 17.732378005981445 \n",
      "            Test  set - loss: 0.7169305086135864, accuracy: 17.72322654724121\n"
     ]
    }
   ],
   "source": [
    "# creación del modelo\n",
    "\n",
    "class Model(nn.Module):\n",
    "\n",
    "  def __init__(self, input_size, output_size):\n",
    "    super().__init__()\n",
    "    self.h1 = nn.Linear(input_size, 50)\n",
    "    self.h2 = nn.ReLU()\n",
    "    self.h3 = nn.Linear(50, 100)\n",
    "    self.h4 = nn.ReLU()\n",
    "    self.h5 = nn.Linear(100, output_size)\n",
    "    self.h6 = nn.Dropout(0.5)\n",
    "    self.softmax = nn.Softmax(dim=1)\n",
    "\n",
    "  def forward(self, x):\n",
    "    x = self.h1(x)\n",
    "    x = self.h2(x)\n",
    "    x = self.h3(x)\n",
    "    x = self.h4(x)\n",
    "    x = self.h5(x)\n",
    "    x = self.h6(x)\n",
    "    x = self.softmax(x)\n",
    "    return x\n",
    "\n",
    "x_train_tensor = pt.from_numpy(x_train.astype(np.float32))\n",
    "x_test_tensor = pt.from_numpy(x_test.astype(np.float32))\n",
    "y_train_tensor = pt.squeeze(pt.from_numpy(y_train).float())\n",
    "y_test_tensor = pt.squeeze(pt.from_numpy(y_test).float())\n",
    "model = Model(x_train_tensor.shape[1], y_train_tensor.shape[1])\n",
    "criterion = nn.BCEWithLogitsLoss()\n",
    "optimizer = pt.optim.SGD(model.parameters(), lr=1e-1)\n",
    "\n",
    "def calculate_accuracy(y_true, y_pred):\n",
    "  return (y_true == y_pred).float().sum() / len(y_true)\n",
    "\n",
    "for epoch in range(1000):\n",
    "  y_pred = model(x_train_tensor)\n",
    "  y_pred = pt.squeeze(y_pred)\n",
    "  train_loss = criterion(y_pred, y_train_tensor)\n",
    "\n",
    "  if epoch % 100 == 0:\n",
    "    train_acc = calculate_accuracy(y_train_tensor, y_pred)\n",
    "    y_test_pred = model(x_test_tensor)\n",
    "    y_test_pred = pt.squeeze(y_test_pred)\n",
    "    test_loss = criterion(y_test_pred, y_test_tensor)\n",
    "    test_acc = calculate_accuracy(y_test_tensor, y_test_pred)\n",
    "    print(f'''epoch {epoch} \n",
    "            Train set - loss: {train_loss}, accuracy: {train_acc} \n",
    "            Test  set - loss: {test_loss}, accuracy: {test_acc}''')\n",
    "    \n",
    "  optimizer.zero_grad()\n",
    "  train_loss.backward()\n",
    "  optimizer.step()"
   ]
  },
  {
   "cell_type": "code",
   "execution_count": null,
   "metadata": {},
   "outputs": [],
   "source": []
  }
 ],
 "metadata": {
  "colab": {
   "collapsed_sections": [],
   "name": "genomic_neural_network.ipynb",
   "provenance": []
  },
  "kernelspec": {
   "display_name": "Python 3",
   "language": "python",
   "name": "python3"
  },
  "language_info": {
   "codemirror_mode": {
    "name": "ipython",
    "version": 3
   },
   "file_extension": ".py",
   "mimetype": "text/x-python",
   "name": "python",
   "nbconvert_exporter": "python",
   "pygments_lexer": "ipython3",
   "version": "3.7.9"
  }
 },
 "nbformat": 4,
 "nbformat_minor": 1
}
