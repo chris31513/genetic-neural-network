# Redes neuronales
## Equipo 06

# Introducción

# Objetivo

# Hipótesis

{
  "nbformat": 4,
  "nbformat_minor": 0,
  "metadata": {
    "colab": {
      "name": "genomic_neural_network.ipynb",
      "provenance": [],
      "collapsed_sections": []
    },
    "kernelspec": {
      "display_name": "Python 3",
      "name": "python3"
    }
  },
  "cells": [
    {
      "cell_type": "markdown",
      "metadata": {
        "id": "Me1v7n5ml7zz"
      },
      "source": [
        "La red que vamos a construir toma datos de un dataset que contiene toda la información genética que Manu Sporny logró recabar usando varias marcas genéticas. Con base en esas marcas genéticas vamos a clasificar cada una en diferentes genotipos."
      ]
    },
    {
      "cell_type": "code",
      "metadata": {
        "id": "Xutdwq0ujk14"
      },
      "source": [
        "import tensorflow as tf\n",
        "import torch as pt\n",
        "import torch.nn as nn\n",
        "import numpy as np\n",
        "from matplotlib import pyplot as plt \n",
        "import random\n",
        "\n",
        "# leemos el archivo\n",
        "\n",
        "f = open('ManuSporny-genome.txt', 'r')\n",
        "all_lines = f.read().split('\\n')\n",
        "lines_without_comments = list(filter(lambda x: len(x) > 0 and x[0] != '#', all_lines))\n",
        "lines_to_rows = list(map(lambda x: x.split('\\t'), lines_without_comments))"
      ],
      "execution_count": null,
      "outputs": []
    },
    {
      "cell_type": "markdown",
      "metadata": {
        "id": "X76DmJCvu-iD"
      },
      "source": [
        "El conjunto de datos está dividido en 3 columnas de datos genéticos; rsid, chromosoma, posición. Y una última columna que es la clasificación del genotipo de cada renglón."
      ]
    },
    {
      "cell_type": "code",
      "metadata": {
        "id": "QV8Y2EBrvOY_"
      },
      "source": [
        "# clasificamos las entradas y salidas de la red\n",
        "\n",
        "chromosome = [row[1] for row in lines_to_rows]\n",
        "\n",
        "genotypes = [row[3] for row in lines_to_rows]"
      ],
      "execution_count": null,
      "outputs": []
    },
    {
      "cell_type": "markdown",
      "metadata": {
        "id": "VZHb7mF6vTHK"
      },
      "source": [
        "Aunque todos los datos son números, la red puede llegar a confundirse y no encontrar ninguna relación entre estos, así que, como será una red clasificadora, debemos separar el conjunto usando one-hot-encoding."
      ]
    },
    {
      "cell_type": "code",
      "metadata": {
        "id": "FR0rxoX1xg3E"
      },
      "source": [
        "# obtenemos todas las clases\n",
        "\n",
        "chromosome_classes = list(set(chromosome))\n",
        "\n",
        "genotypes_classes = list(set(genotypes))\n",
        "\n",
        "# aplicamos one-hot-encoding\n",
        "\n",
        "chromosome_indexes = [i for i,_ in enumerate(chromosome_classes)]\n",
        "\n",
        "chromosome_one_hot = tf.one_hot(chromosome_indexes, len(chromosome_indexes), dtype=float)\n",
        "\n",
        "genotypes_indexes = [i for i,_ in enumerate(genotypes_classes)]\n",
        "\n",
        "genotypes_one_hot = tf.one_hot(genotypes_indexes, len(genotypes_classes), dtype=float)\n",
        "\n",
        "# emparejamos las clases con su one hot\n",
        "\n",
        "chromosome_match = list(zip(chromosome_classes, chromosome_one_hot))\n",
        "genotypes_match = list(zip(genotypes_classes, genotypes_one_hot))"
      ],
      "execution_count": null,
      "outputs": []
    },
    {
      "cell_type": "markdown",
      "metadata": {
        "id": "OQENkdhH8wxv"
      },
      "source": [
        "Ahora, debemos unir todos los datos y preparar las entradas y salidasd de la red y generar los conjuntos de prueba y entrenamiento."
      ]
    },
    {
      "cell_type": "code",
      "metadata": {
        "id": "YnLI0guQ83eZ"
      },
      "source": [
        "# construimos las matrices de entrada\n",
        "\n",
        "dataset = list()\n",
        "\n",
        "for r, c, p, g in lines_to_rows:\n",
        "  for chromosome_oh in chromosome_match:\n",
        "    if c == chromosome_oh[0]:\n",
        "      if r[0] == 'r':\n",
        "        dataset.append((np.array([float(r[2:])] + chromosome_oh[1].numpy().tolist() + [float(p)]), g))\n",
        "      else:\n",
        "        dataset.append((np.array([float(r[1:])] + chromosome_oh[1].numpy().tolist() + [float(p)]), g))\n",
        "\n",
        "# tomamos el 80% del conjunto total como el conjunto de entrenamiento y el 20% el conjunto de prueba\n",
        "\n",
        "train_number = int(len(dataset) * 0.8)\n",
        "\n",
        "train_set = dataset[:train_number]\n",
        "test_set = dataset[train_number:]\n",
        "\n",
        "x_train = list()\n",
        "y_train = list()\n",
        "\n",
        "x_test = list()\n",
        "y_test = list()\n",
        "\n",
        "count = dict()\n",
        "\n",
        "for g in genotypes_classes:\n",
        "  count[g] = 0\n",
        "\n",
        "# definimos las clases del conjunto de prueba y entrenamiento\n",
        "\n",
        "for x,y in train_set:\n",
        "  for g, one_hot in genotypes_match:\n",
        "    if y == g:\n",
        "      count[g] += 1\n",
        "      y_train.append(np.array(one_hot))\n",
        "      x_train.append(x)\n",
        "\n",
        "for x,y in test_set:\n",
        "  for g, one_hot in genotypes_match:\n",
        "    if y == g:\n",
        "      count[g] += 1\n",
        "      y_test.append(np.array(one_hot))\n",
        "      x_test.append(x)\n",
        "\n",
        "x_train = np.array(x_train)\n",
        "y_train = np.array(y_train)\n",
        "\n",
        "x_test = np.array(x_test)\n",
        "y_test = np.array(y_test)\n"
      ],
      "execution_count": null,
      "outputs": []
    },
    {
      "cell_type": "markdown",
      "metadata": {
        "id": "uKYZ1akXM413"
      },
      "source": [
        "Podemos ver la gráfica de los genotipos y datos."
      ]
    },
    {
      "cell_type": "code",
      "metadata": {
        "colab": {
          "base_uri": "https://localhost:8080/",
          "height": 606
        },
        "id": "cIuxCrTeM_I_",
        "outputId": "86a4119f-6dca-49d2-bdca-44d9b753f8a7"
      },
      "source": [
        "classes = list(count.keys())\n",
        "values = list(count.values())\n",
        "\n",
        "fig = plt.figure(figsize = (20, 10))\n",
        "plt.bar(classes, values, color ='maroon', width = 0.4) \n",
        "plt.xlabel(\"Genotipos\") \n",
        "plt.ylabel(\"Poblacion\")\n",
        "plt.show()"
      ],
      "execution_count": null,
      "outputs": [
        {
          "output_type": "display_data",
          "data": {
            "image/png": "[encoded data removed]",
            "text/plain": [
              "<Figure size 1440x720 with 1 Axes>"
            ]
          },
          "metadata": {
            "tags": []
          }
        }
      ]
    },
    {
      "cell_type": "markdown",
      "metadata": {
        "id": "YML5TgrXJjg9"
      },
      "source": [
        "Como ya tenemos el conjunto de datos ya podemos iniciar la construcción de la red"
      ]
    },
    {
      "cell_type": "code",
      "metadata": {
        "colab": {
          "background_save": true,
          "base_uri": "https://localhost:8080/"
        },
        "id": "DP-yyMSoJpxH",
        "outputId": "dbf27111-d244-493d-ce17-128fe5525789"
      },
      "source": [
        "# creación del modelo\n",
        "\n",
        "class Model(nn.Module):\n",
        "\n",
        "  def __init__(self, input_size, output_size):\n",
        "    super().__init__()\n",
        "    self.h1 = nn.Linear(input_size, 50)\n",
        "    self.h2 = nn.ReLU()\n",
        "    self.h3 = nn.Linear(50, 100)\n",
        "    self.h4 = nn.ReLU()\n",
        "    self.h5 = nn.Linear(100, output_size)\n",
        "    self.h6 = nn.Dropout(0.5)\n",
        "    self.softmax = nn.Softmax(dim=1)\n",
        "\n",
        "  def forward(self, x):\n",
        "    x = self.h1(x)\n",
        "    x = self.h2(x)\n",
        "    x = self.h3(x)\n",
        "    x = self.h4(x)\n",
        "    x = self.h5(x)\n",
        "    x = self.h6(x)\n",
        "    x = self.softmax(x)\n",
        "    return x\n",
        "\n",
        "x_train_tensor = pt.from_numpy(x_train.astype(np.float32))\n",
        "x_test_tensor = pt.from_numpy(x_test.astype(np.float32))\n",
        "y_train_tensor = pt.squeeze(pt.from_numpy(y_train).float())\n",
        "y_test_tensor = pt.squeeze(pt.from_numpy(y_test).float())\n",
        "model = Model(x_train_tensor.shape[1], y_train_tensor.shape[1])\n",
        "criterion = nn.BCEWithLogitsLoss()\n",
        "optimizer = pt.optim.SGD(model.parameters(), lr=1e-1)\n",
        "\n",
        "def calculate_accuracy(y_true, y_pred):\n",
        "  return (y_true == y_pred).float().sum() / len(y_true)\n",
        "\n",
        "for epoch in range(100000):\n",
        "  y_pred = model(x_train_tensor)\n",
        "  y_pred = pt.squeeze(y_pred)\n",
        "  train_loss = criterion(y_pred, y_train_tensor)\n",
        "\n",
        "  if epoch % 100 == 0:\n",
        "    train_acc = calculate_accuracy(y_train_tensor, y_pred)\n",
        "    y_test_pred = model(x_test_tensor)\n",
        "    y_test_pred = pt.squeeze(y_test_pred)\n",
        "    test_loss = criterion(y_test_pred, y_test_tensor)\n",
        "    test_acc = calculate_accuracy(y_test_tensor, y_test_pred)\n",
        "    print(f'''epoch {epoch}\n",
        "          Train set - loss: {train_loss}, accuracy: {train_acc}\n",
        "          Test  set - loss: {test_loss}, accuracy: {test_acc}\n",
        "          ''')\n",
        "    \n",
        "  optimizer.zero_grad()\n",
        "  train_loss.backward()\n",
        "  optimizer.step()"
      ],
      "execution_count": null,
      "outputs": [
        {
          "output_type": "stream",
          "text": [
            "epoch 0\n",
            "          Train set - loss: 0.723384439945221, accuracy: 17.99395179748535\n",
            "          Test  set - loss: 0.7231720685958862, accuracy: 17.998334884643555\n",
            "          \n",
            "epoch 100\n",
            "          Train set - loss: 0.7232838869094849, accuracy: 17.85231590270996\n",
            "          Test  set - loss: 0.7233351469039917, accuracy: 17.84882354736328\n",
            "          \n",
            "epoch 200\n",
            "          Train set - loss: 0.723274290561676, accuracy: 17.835590362548828\n",
            "          Test  set - loss: 0.7232972383499146, accuracy: 17.81887435913086\n",
            "          \n",
            "epoch 300\n",
            "          Train set - loss: 0.7232864499092102, accuracy: 17.839576721191406\n",
            "          Test  set - loss: 0.7233309149742126, accuracy: 17.818161010742188\n",
            "          \n",
            "epoch 400\n",
            "          Train set - loss: 0.7231642007827759, accuracy: 17.683162689208984\n",
            "          Test  set - loss: 0.7232621908187866, accuracy: 17.683618545532227\n",
            "          \n",
            "epoch 500\n",
            "          Train set - loss: 0.7231647372245789, accuracy: 17.691097259521484\n",
            "          Test  set - loss: 0.7232676148414612, accuracy: 17.680381774902344\n",
            "          \n",
            "epoch 600\n",
            "          Train set - loss: 0.7231650948524475, accuracy: 17.687297821044922\n",
            "          Test  set - loss: 0.723254382610321, accuracy: 17.682893753051758\n",
            "          \n",
            "epoch 700\n",
            "          Train set - loss: 0.723171055316925, accuracy: 17.688678741455078\n",
            "          Test  set - loss: 0.7232601642608643, accuracy: 17.682283401489258\n",
            "          \n",
            "epoch 800\n",
            "          Train set - loss: 0.723163902759552, accuracy: 17.687971115112305\n",
            "          Test  set - loss: 0.7232400178909302, accuracy: 17.686281204223633\n",
            "          \n",
            "epoch 900\n",
            "          Train set - loss: 0.7231770157814026, accuracy: 17.686141967773438\n",
            "          Test  set - loss: 0.7232584357261658, accuracy: 17.682340621948242\n",
            "          \n",
            "epoch 1000\n",
            "          Train set - loss: 0.7231643199920654, accuracy: 17.68482208251953\n",
            "          Test  set - loss: 0.7232436537742615, accuracy: 17.66456413269043\n",
            "          \n",
            "epoch 1100\n",
            "          Train set - loss: 0.7231618762016296, accuracy: 17.68268394470215\n",
            "          Test  set - loss: 0.7232372760772705, accuracy: 17.667903900146484\n",
            "          \n",
            "epoch 1200\n",
            "          Train set - loss: 0.7231630086898804, accuracy: 17.681764602661133\n",
            "          Test  set - loss: 0.7232339382171631, accuracy: 17.66979217529297\n",
            "          \n",
            "epoch 1300\n",
            "          Train set - loss: 0.7231671214103699, accuracy: 17.682437896728516\n",
            "          Test  set - loss: 0.7232513427734375, accuracy: 17.673147201538086\n",
            "          \n",
            "epoch 1400\n",
            "          Train set - loss: 0.7231678366661072, accuracy: 17.675613403320312\n",
            "          Test  set - loss: 0.7232421636581421, accuracy: 17.668804168701172\n",
            "          \n",
            "epoch 1500\n",
            "          Train set - loss: 0.7231714725494385, accuracy: 17.677745819091797\n",
            "          Test  set - loss: 0.7232288122177124, accuracy: 17.679859161376953\n",
            "          \n",
            "epoch 1600\n",
            "          Train set - loss: 0.7231653928756714, accuracy: 17.683502197265625\n",
            "          Test  set - loss: 0.7232179641723633, accuracy: 17.66823959350586\n",
            "          \n"
          ],
          "name": "stdout"
        },
        {
          "output_type": "error",
          "ename": "KeyboardInterrupt",
          "evalue": "ignored",
          "traceback": [
            "\u001b[0;31m---------------------------------------------------------------------------\u001b[0m",
            "\u001b[0;31mKeyboardInterrupt\u001b[0m                         Traceback (most recent call last)",
            "\u001b[0;32m<ipython-input-197-9b6ca0c9d349>\u001b[0m in \u001b[0;36m<module>\u001b[0;34m()\u001b[0m\n\u001b[1;32m     35\u001b[0m \u001b[0;34m\u001b[0m\u001b[0m\n\u001b[1;32m     36\u001b[0m \u001b[0;32mfor\u001b[0m \u001b[0mepoch\u001b[0m \u001b[0;32min\u001b[0m \u001b[0mrange\u001b[0m\u001b[0;34m(\u001b[0m\u001b[0;36m100000\u001b[0m\u001b[0;34m)\u001b[0m\u001b[0;34m:\u001b[0m\u001b[0;34m\u001b[0m\u001b[0;34m\u001b[0m\u001b[0m\n\u001b[0;32m---> 37\u001b[0;31m   \u001b[0my_pred\u001b[0m \u001b[0;34m=\u001b[0m \u001b[0mmodel\u001b[0m\u001b[0;34m(\u001b[0m\u001b[0mx_train_tensor\u001b[0m\u001b[0;34m)\u001b[0m\u001b[0;34m\u001b[0m\u001b[0;34m\u001b[0m\u001b[0m\n\u001b[0m\u001b[1;32m     38\u001b[0m   \u001b[0my_pred\u001b[0m \u001b[0;34m=\u001b[0m \u001b[0mpt\u001b[0m\u001b[0;34m.\u001b[0m\u001b[0msqueeze\u001b[0m\u001b[0;34m(\u001b[0m\u001b[0my_pred\u001b[0m\u001b[0;34m)\u001b[0m\u001b[0;34m\u001b[0m\u001b[0;34m\u001b[0m\u001b[0m\n\u001b[1;32m     39\u001b[0m   \u001b[0mtrain_loss\u001b[0m \u001b[0;34m=\u001b[0m \u001b[0mcriterion\u001b[0m\u001b[0;34m(\u001b[0m\u001b[0my_pred\u001b[0m\u001b[0;34m,\u001b[0m \u001b[0my_train_tensor\u001b[0m\u001b[0;34m)\u001b[0m\u001b[0;34m\u001b[0m\u001b[0;34m\u001b[0m\u001b[0m\n",
            "\u001b[0;32m/usr/local/lib/python3.6/dist-packages/torch/nn/modules/module.py\u001b[0m in \u001b[0;36m_call_impl\u001b[0;34m(self, *input, **kwargs)\u001b[0m\n\u001b[1;32m    725\u001b[0m             \u001b[0mresult\u001b[0m \u001b[0;34m=\u001b[0m \u001b[0mself\u001b[0m\u001b[0;34m.\u001b[0m\u001b[0m_slow_forward\u001b[0m\u001b[0;34m(\u001b[0m\u001b[0;34m*\u001b[0m\u001b[0minput\u001b[0m\u001b[0;34m,\u001b[0m \u001b[0;34m**\u001b[0m\u001b[0mkwargs\u001b[0m\u001b[0;34m)\u001b[0m\u001b[0;34m\u001b[0m\u001b[0;34m\u001b[0m\u001b[0m\n\u001b[1;32m    726\u001b[0m         \u001b[0;32melse\u001b[0m\u001b[0;34m:\u001b[0m\u001b[0;34m\u001b[0m\u001b[0;34m\u001b[0m\u001b[0m\n\u001b[0;32m--> 727\u001b[0;31m             \u001b[0mresult\u001b[0m \u001b[0;34m=\u001b[0m \u001b[0mself\u001b[0m\u001b[0;34m.\u001b[0m\u001b[0mforward\u001b[0m\u001b[0;34m(\u001b[0m\u001b[0;34m*\u001b[0m\u001b[0minput\u001b[0m\u001b[0;34m,\u001b[0m \u001b[0;34m**\u001b[0m\u001b[0mkwargs\u001b[0m\u001b[0;34m)\u001b[0m\u001b[0;34m\u001b[0m\u001b[0;34m\u001b[0m\u001b[0m\n\u001b[0m\u001b[1;32m    728\u001b[0m         for hook in itertools.chain(\n\u001b[1;32m    729\u001b[0m                 \u001b[0m_global_forward_hooks\u001b[0m\u001b[0;34m.\u001b[0m\u001b[0mvalues\u001b[0m\u001b[0;34m(\u001b[0m\u001b[0;34m)\u001b[0m\u001b[0;34m,\u001b[0m\u001b[0;34m\u001b[0m\u001b[0;34m\u001b[0m\u001b[0m\n",
            "\u001b[0;32m<ipython-input-197-9b6ca0c9d349>\u001b[0m in \u001b[0;36mforward\u001b[0;34m(self, x)\u001b[0m\n\u001b[1;32m     16\u001b[0m     \u001b[0mx\u001b[0m \u001b[0;34m=\u001b[0m \u001b[0mself\u001b[0m\u001b[0;34m.\u001b[0m\u001b[0mh1\u001b[0m\u001b[0;34m(\u001b[0m\u001b[0mx\u001b[0m\u001b[0;34m)\u001b[0m\u001b[0;34m\u001b[0m\u001b[0;34m\u001b[0m\u001b[0m\n\u001b[1;32m     17\u001b[0m     \u001b[0mx\u001b[0m \u001b[0;34m=\u001b[0m \u001b[0mself\u001b[0m\u001b[0;34m.\u001b[0m\u001b[0mh2\u001b[0m\u001b[0;34m(\u001b[0m\u001b[0mx\u001b[0m\u001b[0;34m)\u001b[0m\u001b[0;34m\u001b[0m\u001b[0;34m\u001b[0m\u001b[0m\n\u001b[0;32m---> 18\u001b[0;31m     \u001b[0mx\u001b[0m \u001b[0;34m=\u001b[0m \u001b[0mself\u001b[0m\u001b[0;34m.\u001b[0m\u001b[0mh3\u001b[0m\u001b[0;34m(\u001b[0m\u001b[0mx\u001b[0m\u001b[0;34m)\u001b[0m\u001b[0;34m\u001b[0m\u001b[0;34m\u001b[0m\u001b[0m\n\u001b[0m\u001b[1;32m     19\u001b[0m     \u001b[0mx\u001b[0m \u001b[0;34m=\u001b[0m \u001b[0mself\u001b[0m\u001b[0;34m.\u001b[0m\u001b[0mh4\u001b[0m\u001b[0;34m(\u001b[0m\u001b[0mx\u001b[0m\u001b[0;34m)\u001b[0m\u001b[0;34m\u001b[0m\u001b[0;34m\u001b[0m\u001b[0m\n\u001b[1;32m     20\u001b[0m     \u001b[0mx\u001b[0m \u001b[0;34m=\u001b[0m \u001b[0mself\u001b[0m\u001b[0;34m.\u001b[0m\u001b[0mh5\u001b[0m\u001b[0;34m(\u001b[0m\u001b[0mx\u001b[0m\u001b[0;34m)\u001b[0m\u001b[0;34m\u001b[0m\u001b[0;34m\u001b[0m\u001b[0m\n",
            "\u001b[0;32m/usr/local/lib/python3.6/dist-packages/torch/nn/modules/module.py\u001b[0m in \u001b[0;36m_call_impl\u001b[0;34m(self, *input, **kwargs)\u001b[0m\n\u001b[1;32m    725\u001b[0m             \u001b[0mresult\u001b[0m \u001b[0;34m=\u001b[0m \u001b[0mself\u001b[0m\u001b[0;34m.\u001b[0m\u001b[0m_slow_forward\u001b[0m\u001b[0;34m(\u001b[0m\u001b[0;34m*\u001b[0m\u001b[0minput\u001b[0m\u001b[0;34m,\u001b[0m \u001b[0;34m**\u001b[0m\u001b[0mkwargs\u001b[0m\u001b[0;34m)\u001b[0m\u001b[0;34m\u001b[0m\u001b[0;34m\u001b[0m\u001b[0m\n\u001b[1;32m    726\u001b[0m         \u001b[0;32melse\u001b[0m\u001b[0;34m:\u001b[0m\u001b[0;34m\u001b[0m\u001b[0;34m\u001b[0m\u001b[0m\n\u001b[0;32m--> 727\u001b[0;31m             \u001b[0mresult\u001b[0m \u001b[0;34m=\u001b[0m \u001b[0mself\u001b[0m\u001b[0;34m.\u001b[0m\u001b[0mforward\u001b[0m\u001b[0;34m(\u001b[0m\u001b[0;34m*\u001b[0m\u001b[0minput\u001b[0m\u001b[0;34m,\u001b[0m \u001b[0;34m**\u001b[0m\u001b[0mkwargs\u001b[0m\u001b[0;34m)\u001b[0m\u001b[0;34m\u001b[0m\u001b[0;34m\u001b[0m\u001b[0m\n\u001b[0m\u001b[1;32m    728\u001b[0m         for hook in itertools.chain(\n\u001b[1;32m    729\u001b[0m                 \u001b[0m_global_forward_hooks\u001b[0m\u001b[0;34m.\u001b[0m\u001b[0mvalues\u001b[0m\u001b[0;34m(\u001b[0m\u001b[0;34m)\u001b[0m\u001b[0;34m,\u001b[0m\u001b[0;34m\u001b[0m\u001b[0;34m\u001b[0m\u001b[0m\n",
            "\u001b[0;32m/usr/local/lib/python3.6/dist-packages/torch/nn/modules/linear.py\u001b[0m in \u001b[0;36mforward\u001b[0;34m(self, input)\u001b[0m\n\u001b[1;32m     91\u001b[0m \u001b[0;34m\u001b[0m\u001b[0m\n\u001b[1;32m     92\u001b[0m     \u001b[0;32mdef\u001b[0m \u001b[0mforward\u001b[0m\u001b[0;34m(\u001b[0m\u001b[0mself\u001b[0m\u001b[0;34m,\u001b[0m \u001b[0minput\u001b[0m\u001b[0;34m:\u001b[0m \u001b[0mTensor\u001b[0m\u001b[0;34m)\u001b[0m \u001b[0;34m->\u001b[0m \u001b[0mTensor\u001b[0m\u001b[0;34m:\u001b[0m\u001b[0;34m\u001b[0m\u001b[0;34m\u001b[0m\u001b[0m\n\u001b[0;32m---> 93\u001b[0;31m         \u001b[0;32mreturn\u001b[0m \u001b[0mF\u001b[0m\u001b[0;34m.\u001b[0m\u001b[0mlinear\u001b[0m\u001b[0;34m(\u001b[0m\u001b[0minput\u001b[0m\u001b[0;34m,\u001b[0m \u001b[0mself\u001b[0m\u001b[0;34m.\u001b[0m\u001b[0mweight\u001b[0m\u001b[0;34m,\u001b[0m \u001b[0mself\u001b[0m\u001b[0;34m.\u001b[0m\u001b[0mbias\u001b[0m\u001b[0;34m)\u001b[0m\u001b[0;34m\u001b[0m\u001b[0;34m\u001b[0m\u001b[0m\n\u001b[0m\u001b[1;32m     94\u001b[0m \u001b[0;34m\u001b[0m\u001b[0m\n\u001b[1;32m     95\u001b[0m     \u001b[0;32mdef\u001b[0m \u001b[0mextra_repr\u001b[0m\u001b[0;34m(\u001b[0m\u001b[0mself\u001b[0m\u001b[0;34m)\u001b[0m \u001b[0;34m->\u001b[0m \u001b[0mstr\u001b[0m\u001b[0;34m:\u001b[0m\u001b[0;34m\u001b[0m\u001b[0;34m\u001b[0m\u001b[0m\n",
            "\u001b[0;32m/usr/local/lib/python3.6/dist-packages/torch/nn/functional.py\u001b[0m in \u001b[0;36mlinear\u001b[0;34m(input, weight, bias)\u001b[0m\n\u001b[1;32m   1688\u001b[0m     \u001b[0;32mif\u001b[0m \u001b[0minput\u001b[0m\u001b[0;34m.\u001b[0m\u001b[0mdim\u001b[0m\u001b[0;34m(\u001b[0m\u001b[0;34m)\u001b[0m \u001b[0;34m==\u001b[0m \u001b[0;36m2\u001b[0m \u001b[0;32mand\u001b[0m \u001b[0mbias\u001b[0m \u001b[0;32mis\u001b[0m \u001b[0;32mnot\u001b[0m \u001b[0;32mNone\u001b[0m\u001b[0;34m:\u001b[0m\u001b[0;34m\u001b[0m\u001b[0;34m\u001b[0m\u001b[0m\n\u001b[1;32m   1689\u001b[0m         \u001b[0;31m# fused op is marginally faster\u001b[0m\u001b[0;34m\u001b[0m\u001b[0;34m\u001b[0m\u001b[0;34m\u001b[0m\u001b[0m\n\u001b[0;32m-> 1690\u001b[0;31m         \u001b[0mret\u001b[0m \u001b[0;34m=\u001b[0m \u001b[0mtorch\u001b[0m\u001b[0;34m.\u001b[0m\u001b[0maddmm\u001b[0m\u001b[0;34m(\u001b[0m\u001b[0mbias\u001b[0m\u001b[0;34m,\u001b[0m \u001b[0minput\u001b[0m\u001b[0;34m,\u001b[0m \u001b[0mweight\u001b[0m\u001b[0;34m.\u001b[0m\u001b[0mt\u001b[0m\u001b[0;34m(\u001b[0m\u001b[0;34m)\u001b[0m\u001b[0;34m)\u001b[0m\u001b[0;34m\u001b[0m\u001b[0;34m\u001b[0m\u001b[0m\n\u001b[0m\u001b[1;32m   1691\u001b[0m     \u001b[0;32melse\u001b[0m\u001b[0;34m:\u001b[0m\u001b[0;34m\u001b[0m\u001b[0;34m\u001b[0m\u001b[0m\n\u001b[1;32m   1692\u001b[0m         \u001b[0moutput\u001b[0m \u001b[0;34m=\u001b[0m \u001b[0minput\u001b[0m\u001b[0;34m.\u001b[0m\u001b[0mmatmul\u001b[0m\u001b[0;34m(\u001b[0m\u001b[0mweight\u001b[0m\u001b[0;34m.\u001b[0m\u001b[0mt\u001b[0m\u001b[0;34m(\u001b[0m\u001b[0;34m)\u001b[0m\u001b[0;34m)\u001b[0m\u001b[0;34m\u001b[0m\u001b[0;34m\u001b[0m\u001b[0m\n",
            "\u001b[0;31mKeyboardInterrupt\u001b[0m: "
          ]
        }
      ]
    }
  ]
}
